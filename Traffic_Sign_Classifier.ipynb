{
 "cells": [
  {
   "cell_type": "markdown",
   "metadata": {},
   "source": [
    "# Self-Driving Car Engineer Nanodegree\n",
    "\n",
    "## Deep Learning\n",
    "\n",
    "## Project: Build a Traffic Sign Recognition Classifier\n",
    "\n",
    "In this notebook, a template is provided for you to implement your functionality in stages, which is required to successfully complete this project. If additional code is required that cannot be included in the notebook, be sure that the Python code is successfully imported and included in your submission if necessary. \n",
    "\n",
    "> **Note**: Once you have completed all of the code implementations, you need to finalize your work by exporting the iPython Notebook as an HTML document. Before exporting the notebook to html, all of the code cells need to have been run so that reviewers can see the final implementation and output. You can then export the notebook by using the menu above and navigating to  \\n\",\n",
    "    \"**File -> Download as -> HTML (.html)**. Include the finished document along with this notebook as your submission. \n",
    "\n",
    "In addition to implementing code, there is a writeup to complete. The writeup should be completed in a separate file, which can be either a markdown file or a pdf document. There is a [write up template](https://github.com/udacity/CarND-Traffic-Sign-Classifier-Project/blob/master/writeup_template.md) that can be used to guide the writing process. Completing the code template and writeup template will cover all of the [rubric points](https://review.udacity.com/#!/rubrics/481/view) for this project.\n",
    "\n",
    "The [rubric](https://review.udacity.com/#!/rubrics/481/view) contains \"Stand Out Suggestions\" for enhancing the project beyond the minimum requirements. The stand out suggestions are optional. If you decide to pursue the \"stand out suggestions\", you can include the code in this Ipython notebook and also discuss the results in the writeup file.\n",
    "\n",
    "\n",
    ">**Note:** Code and Markdown cells can be executed using the **Shift + Enter** keyboard shortcut. In addition, Markdown cells can be edited by typically double-clicking the cell to enter edit mode."
   ]
  },
  {
   "cell_type": "markdown",
   "metadata": {},
   "source": [
    "---\n",
    "## Step 0: Load The Data"
   ]
  },
  {
   "cell_type": "code",
   "execution_count": 1,
   "metadata": {},
   "outputs": [],
   "source": [
    "# Load pickled data\n",
    "import pickle\n",
    "\n",
    "# TODO: Fill this in based on where you saved the training and testing data\n",
    "\n",
    "training_file = 'C:/Udacity/traffic-signs-data/train.p'\n",
    "validation_file='C:/Udacity/traffic-signs-data/valid.p'\n",
    "testing_file = 'C:/Udacity/traffic-signs-data/test.p'\n",
    "\n",
    "with open(training_file, mode='rb') as f:\n",
    "    train = pickle.load(f)\n",
    "with open(validation_file, mode='rb') as f:\n",
    "    valid = pickle.load(f)\n",
    "with open(testing_file, mode='rb') as f:\n",
    "    test = pickle.load(f)\n",
    "    \n",
    "X_train, y_train = train['features'], train['labels']\n",
    "X_valid, y_valid = valid['features'], valid['labels']\n",
    "X_test, y_test = test['features'], test['labels']"
   ]
  },
  {
   "cell_type": "code",
   "execution_count": 2,
   "metadata": {},
   "outputs": [
    {
     "name": "stderr",
     "output_type": "stream",
     "text": [
      "C:\\ProgramData\\Anaconda3\\lib\\site-packages\\h5py\\__init__.py:36: FutureWarning: Conversion of the second argument of issubdtype from `float` to `np.floating` is deprecated. In future, it will be treated as `np.float64 == np.dtype(float).type`.\n",
      "  from ._conv import register_converters as _register_converters\n"
     ]
    }
   ],
   "source": [
    "###import additional libraries\n",
    "import numpy as np\n",
    "import pandas as pd\n",
    "import tensorflow as tf\n",
    "from sklearn.preprocessing import OneHotEncoder\n",
    "from tensorflow.contrib.layers import flatten\n",
    "### Define the model and its input\n",
    "from sklearn.utils import shuffle\n",
    "from sklearn.model_selection import train_test_split\n",
    "import seaborn as sns\n",
    "import os\n",
    "from PIL import Image\n",
    "import glob\n",
    "import tensorflow.contrib.slim as slim"
   ]
  },
  {
   "cell_type": "markdown",
   "metadata": {},
   "source": [
    "---\n",
    "\n",
    "## Step 1: Dataset Summary & Exploration\n",
    "\n",
    "The pickled data is a dictionary with 4 key/value pairs:\n",
    "\n",
    "- `'features'` is a 4D array containing raw pixel data of the traffic sign images, (num examples, width, height, channels).\n",
    "- `'labels'` is a 1D array containing the label/class id of the traffic sign. The file `signnames.csv` contains id -> name mappings for each id.\n",
    "- `'sizes'` is a list containing tuples, (width, height) representing the original width and height the image.\n",
    "- `'coords'` is a list containing tuples, (x1, y1, x2, y2) representing coordinates of a bounding box around the sign in the image. **THESE COORDINATES ASSUME THE ORIGINAL IMAGE. THE PICKLED DATA CONTAINS RESIZED VERSIONS (32 by 32) OF THESE IMAGES**\n",
    "\n",
    "Complete the basic data summary below. Use python, numpy and/or pandas methods to calculate the data summary rather than hard coding the results. For example, the [pandas shape method](http://pandas.pydata.org/pandas-docs/stable/generated/pandas.DataFrame.shape.html) might be useful for calculating some of the summary results. "
   ]
  },
  {
   "cell_type": "markdown",
   "metadata": {},
   "source": [
    "### Provide a Basic Summary of the Data Set Using Python, Numpy and/or Pandas"
   ]
  },
  {
   "cell_type": "code",
   "execution_count": 3,
   "metadata": {},
   "outputs": [
    {
     "name": "stdout",
     "output_type": "stream",
     "text": [
      "Number of training examples = 34799\n",
      "Number of testing examples = 12630\n",
      "Image data shape = (32, 32, 3)\n",
      "Number of classes = 43\n"
     ]
    }
   ],
   "source": [
    "### Replace each question mark with the appropriate value. \n",
    "### Use python, pandas or numpy methods rather than hard coding the results\n",
    "\n",
    "# TODO: Number of training examples\n",
    "n_train = len(X_train)\n",
    "\n",
    "# TODO: Number of validation examples\n",
    "n_validation = len(X_valid)\n",
    "\n",
    "# TODO: Number of testing examples.\n",
    "n_test = len(X_test)\n",
    "\n",
    "# TODO: What's the shape of an traffic sign image?\n",
    "image_shape = np.shape(X_train[0])\n",
    "\n",
    "# TODO: How many unique classes/labels there are in the dataset.\n",
    "n_classes = len(set(y_train))\n",
    "\n",
    "print(\"Number of training examples =\", n_train)\n",
    "print(\"Number of testing examples =\", n_test)\n",
    "print(\"Image data shape =\", image_shape)\n",
    "print(\"Number of classes =\", n_classes)"
   ]
  },
  {
   "cell_type": "markdown",
   "metadata": {},
   "source": [
    "### Include an exploratory visualization of the dataset"
   ]
  },
  {
   "cell_type": "markdown",
   "metadata": {},
   "source": [
    "Visualize the German Traffic Signs Dataset using the pickled file(s). This is open ended, suggestions include: plotting traffic sign images, plotting the count of each sign, etc. \n",
    "\n",
    "The [Matplotlib](http://matplotlib.org/) [examples](http://matplotlib.org/examples/index.html) and [gallery](http://matplotlib.org/gallery.html) pages are a great resource for doing visualizations in Python.\n",
    "\n",
    "**NOTE:** It's recommended you start with something simple first. If you wish to do more, come back to it after you've completed the rest of the sections. It can be interesting to look at the distribution of classes in the training, validation and test set. Is the distribution the same? Are there more examples of some classes than others?"
   ]
  },
  {
   "cell_type": "markdown",
   "metadata": {},
   "source": [
    "Lets display the first few rows "
   ]
  },
  {
   "cell_type": "code",
   "execution_count": 4,
   "metadata": {},
   "outputs": [
    {
     "data": {
      "text/html": [
       "<div>\n",
       "<style scoped>\n",
       "    .dataframe tbody tr th:only-of-type {\n",
       "        vertical-align: middle;\n",
       "    }\n",
       "\n",
       "    .dataframe tbody tr th {\n",
       "        vertical-align: top;\n",
       "    }\n",
       "\n",
       "    .dataframe thead th {\n",
       "        text-align: right;\n",
       "    }\n",
       "</style>\n",
       "<table border=\"1\" class=\"dataframe\">\n",
       "  <thead>\n",
       "    <tr style=\"text-align: right;\">\n",
       "      <th></th>\n",
       "      <th>ClassId</th>\n",
       "      <th>SignName</th>\n",
       "    </tr>\n",
       "  </thead>\n",
       "  <tbody>\n",
       "    <tr>\n",
       "      <th>0</th>\n",
       "      <td>0</td>\n",
       "      <td>Speed limit (20km/h)</td>\n",
       "    </tr>\n",
       "    <tr>\n",
       "      <th>1</th>\n",
       "      <td>1</td>\n",
       "      <td>Speed limit (30km/h)</td>\n",
       "    </tr>\n",
       "    <tr>\n",
       "      <th>2</th>\n",
       "      <td>2</td>\n",
       "      <td>Speed limit (50km/h)</td>\n",
       "    </tr>\n",
       "    <tr>\n",
       "      <th>3</th>\n",
       "      <td>3</td>\n",
       "      <td>Speed limit (60km/h)</td>\n",
       "    </tr>\n",
       "    <tr>\n",
       "      <th>4</th>\n",
       "      <td>4</td>\n",
       "      <td>Speed limit (70km/h)</td>\n",
       "    </tr>\n",
       "  </tbody>\n",
       "</table>\n",
       "</div>"
      ],
      "text/plain": [
       "   ClassId              SignName\n",
       "0        0  Speed limit (20km/h)\n",
       "1        1  Speed limit (30km/h)\n",
       "2        2  Speed limit (50km/h)\n",
       "3        3  Speed limit (60km/h)\n",
       "4        4  Speed limit (70km/h)"
      ]
     },
     "execution_count": 4,
     "metadata": {},
     "output_type": "execute_result"
    }
   ],
   "source": [
    "df_signnames = pd.read_csv('signnames.csv')\n",
    "df_signnames.head()"
   ]
  },
  {
   "cell_type": "markdown",
   "metadata": {},
   "source": [
    "Lets randomly display a sign and its name"
   ]
  },
  {
   "cell_type": "code",
   "execution_count": 5,
   "metadata": {},
   "outputs": [
    {
     "data": {
      "text/html": [
       "<div>\n",
       "<style scoped>\n",
       "    .dataframe tbody tr th:only-of-type {\n",
       "        vertical-align: middle;\n",
       "    }\n",
       "\n",
       "    .dataframe tbody tr th {\n",
       "        vertical-align: top;\n",
       "    }\n",
       "\n",
       "    .dataframe thead th {\n",
       "        text-align: right;\n",
       "    }\n",
       "</style>\n",
       "<table border=\"1\" class=\"dataframe\">\n",
       "  <thead>\n",
       "    <tr style=\"text-align: right;\">\n",
       "      <th></th>\n",
       "      <th>ClassId</th>\n",
       "      <th>SignName</th>\n",
       "    </tr>\n",
       "  </thead>\n",
       "  <tbody>\n",
       "    <tr>\n",
       "      <th>41</th>\n",
       "      <td>41</td>\n",
       "      <td>End of no passing</td>\n",
       "    </tr>\n",
       "  </tbody>\n",
       "</table>\n",
       "</div>"
      ],
      "text/plain": [
       "    ClassId           SignName\n",
       "41       41  End of no passing"
      ]
     },
     "execution_count": 5,
     "metadata": {},
     "output_type": "execute_result"
    },
    {
     "data": {
      "image/png": "[encoded data removed]",
      "text/plain": [
       "<Figure size 432x288 with 1 Axes>"
      ]
     },
     "metadata": {},
     "output_type": "display_data"
    }
   ],
   "source": [
    "### Data exploration visualization code goes here.\n",
    "### Feel free to use as many code cells as needed.\n",
    "import matplotlib.pyplot as plt\n",
    "# Visualizations will be shown in the notebook.\n",
    "%matplotlib inline\n",
    "plt.imshow(X_train[100])\n",
    "signal_indx = y_train[100]\n",
    "df_signnames[df_signnames['ClassId'] == signal_indx]"
   ]
  },
  {
   "cell_type": "markdown",
   "metadata": {},
   "source": [
    "Lets plot  histogram to check the class distirbution<br>\n",
    "We will convert the data in a pandas daataframe join with the master data containting the signnames<br>\n",
    "Then we will plot the data<br>"
   ]
  },
  {
   "cell_type": "code",
   "execution_count": 6,
   "metadata": {},
   "outputs": [
    {
     "data": {
      "text/plain": [
       "<matplotlib.axes._subplots.AxesSubplot at 0x163cb164e80>"
      ]
     },
     "execution_count": 6,
     "metadata": {},
     "output_type": "execute_result"
    },
    {
     "data": {
      "image/png": "[encoded data removed]",
      "text/plain": [
       "<Figure size 1080x1080 with 1 Axes>"
      ]
     },
     "metadata": {},
     "output_type": "display_data"
    }
   ],
   "source": [
    "y_df = pd.DataFrame(y_train)\n",
    "y_df.columns = ['ClassId']\n",
    "y_df_merge = pd.merge(y_df, df_signnames , on='ClassId', how='inner')\n",
    "plt.figure(figsize=(15,15))\n",
    "sns.set()\n",
    "sns.countplot(data=y_df_merge,y='SignName')"
   ]
  },
  {
   "cell_type": "markdown",
   "metadata": {},
   "source": [
    "----\n",
    "\n",
    "## Step 2: Design and Test a Model Architecture\n",
    "\n",
    "Design and implement a deep learning model that learns to recognize traffic signs. Train and test your model on the [German Traffic Sign Dataset](http://benchmark.ini.rub.de/?section=gtsrb&subsection=dataset).\n",
    "\n",
    "The LeNet-5 implementation shown in the [classroom](https://classroom.udacity.com/nanodegrees/nd013/parts/fbf77062-5703-404e-b60c-95b78b2f3f9e/modules/6df7ae49-c61c-4bb2-a23e-6527e69209ec/lessons/601ae704-1035-4287-8b11-e2c2716217ad/concepts/d4aca031-508f-4e0b-b493-e7b706120f81) at the end of the CNN lesson is a solid starting point. You'll have to change the number of classes and possibly the preprocessing, but aside from that it's plug and play! \n",
    "\n",
    "With the LeNet-5 solution from the lecture, you should expect a validation set accuracy of about 0.89. To meet specifications, the validation set accuracy will need to be at least 0.93. It is possible to get an even higher accuracy, but 0.93 is the minimum for a successful project submission. \n",
    "\n",
    "There are various aspects to consider when thinking about this problem:\n",
    "\n",
    "- Neural network architecture (is the network over or underfitting?)\n",
    "- Play around preprocessing techniques (normalization, rgb to grayscale, etc)\n",
    "- Number of examples per label (some have more than others).\n",
    "- Generate fake data.\n",
    "\n",
    "Here is an example of a [published baseline model on this problem](http://yann.lecun.com/exdb/publis/pdf/sermanet-ijcnn-11.pdf). It's not required to be familiar with the approach used in the paper but, it's good practice to try to read papers like these."
   ]
  },
  {
   "cell_type": "markdown",
   "metadata": {},
   "source": [
    "### Pre-process the Data Set (normalization, grayscale, etc.)"
   ]
  },
  {
   "cell_type": "markdown",
   "metadata": {},
   "source": [
    "Minimally, the image data should be normalized so that the data has mean zero and equal variance. For image data, `(pixel - 128)/ 128` is a quick way to approximately normalize the data and can be used in this project. \n",
    "\n",
    "Other pre-processing steps are optional. You can try different techniques to see if it improves performance. \n",
    "\n",
    "Use the code cell (or multiple code cells, if necessary) to implement the first step of your project."
   ]
  },
  {
   "cell_type": "markdown",
   "metadata": {},
   "source": [
    "Here we normalize and display a single image"
   ]
  },
  {
   "cell_type": "code",
   "execution_count": 7,
   "metadata": {},
   "outputs": [],
   "source": [
    "####defining the function for RGB2GRAYSCALE\n",
    "def rgb2gray(rgb):\n",
    "\n",
    "    r, g, b = rgb[:,:,:,0], rgb[:,:,:,1], rgb[:,:,:,2]\n",
    "    gray = 0.2989 * r + 0.5870 * g + 0.1140 * b\n",
    "\n",
    "    return gray"
   ]
  },
  {
   "cell_type": "markdown",
   "metadata": {},
   "source": [
    "Implementing normalization on the entire test datasaet<br>\n",
    "Also will display single image to see if the process has been applied correctly or not<br>\n",
    "Also will not be converting image to grayscalebut will use all 3 color channels \n",
    "Also we will preprocess all the datasets"
   ]
  },
  {
   "cell_type": "code",
   "execution_count": 8,
   "metadata": {},
   "outputs": [
    {
     "name": "stdout",
     "output_type": "stream",
     "text": [
      "(34799, 32, 32, 1)\n"
     ]
    },
    {
     "data": {
      "image/png": "[encoded data removed]",
      "text/plain": [
       "<Figure size 432x288 with 1 Axes>"
      ]
     },
     "metadata": {},
     "output_type": "display_data"
    }
   ],
   "source": [
    "X_train_normalized = (X_train-128)/128\n",
    "####Asserting that the shapes should be the same\n",
    "assert np.shape(X_train_normalized) == np.shape(X_train)\n",
    "X_train_normalized_grey = rgb2gray(X_train_normalized)\n",
    "plt.imshow(X_train_normalized_grey[100],cmap=\"gray\")\n",
    "X_train_normalized_grey = np.expand_dims(X_train_normalized_grey, axis=-1)\n",
    "print(np.shape(X_train_normalized_grey))"
   ]
  },
  {
   "cell_type": "code",
   "execution_count": 9,
   "metadata": {},
   "outputs": [
    {
     "name": "stdout",
     "output_type": "stream",
     "text": [
      "(4410, 32, 32, 1)\n"
     ]
    },
    {
     "data": {
      "image/png": "[encoded data removed]",
      "text/plain": [
       "<Figure size 432x288 with 1 Axes>"
      ]
     },
     "metadata": {},
     "output_type": "display_data"
    }
   ],
   "source": [
    "X_valid_normalized = (X_valid-128)/128\n",
    "####Asserting that the shapes should be the same\n",
    "assert np.shape(X_valid_normalized) == np.shape(X_valid)\n",
    "X_valid_normalized_grey = rgb2gray(X_valid_normalized)\n",
    "plt.imshow(X_valid_normalized_grey[100],cmap=\"gray\")\n",
    "X_valid_normalized_grey = np.expand_dims(X_valid_normalized_grey, axis=-1)\n",
    "print(np.shape(X_valid_normalized_grey))"
   ]
  },
  {
   "cell_type": "code",
   "execution_count": 10,
   "metadata": {},
   "outputs": [
    {
     "name": "stdout",
     "output_type": "stream",
     "text": [
      "(12630, 32, 32, 1)\n"
     ]
    },
    {
     "data": {
      "image/png": "[encoded data removed]",
      "text/plain": [
       "<Figure size 432x288 with 1 Axes>"
      ]
     },
     "metadata": {},
     "output_type": "display_data"
    }
   ],
   "source": [
    "X_test_normalized = (X_test-128)/128\n",
    "####Asserting that the shapes should be the same\n",
    "assert np.shape(X_test_normalized) == np.shape(X_test)\n",
    "X_test_normalized_grey = rgb2gray(X_test_normalized)\n",
    "plt.imshow(X_test_normalized_grey[100],cmap=\"gray\")\n",
    "X_test_normalized_grey = np.expand_dims(X_test_normalized_grey, axis=-1)\n",
    "print(np.shape(X_test_normalized_grey))"
   ]
  },
  {
   "cell_type": "markdown",
   "metadata": {},
   "source": [
    "### Model Architecture\n",
    "we will now define the model arcitecture for LeNet below"
   ]
  },
  {
   "cell_type": "code",
   "execution_count": 11,
   "metadata": {},
   "outputs": [],
   "source": [
    "def LeNet(x,v_keep_prob):    \n",
    "    # Arguments used for tf.truncated_normal, randomly defines variables for the weights and biases for each layer\n",
    "    mu = 0\n",
    "    sigma = 0.1\n",
    "    \n",
    "    # SOLUTION: Layer 1: Convolutional. Input = 32x32x1. Output = 28x28x6.\n",
    "    conv1_W = tf.Variable(tf.truncated_normal(shape=(5, 5, 1, 20), mean = mu, stddev = sigma) ,name = 'w1')\n",
    "    conv1_b = tf.Variable(tf.zeros(20))\n",
    "    conv1   = tf.nn.conv2d(x, conv1_W, strides=[1, 1, 1, 1], padding='VALID') + conv1_b\n",
    "\n",
    "    # SOLUTION: Activation.\n",
    "    conv1 = tf.nn.relu(conv1,name= 'example')\n",
    "    conv1 = tf.nn.dropout(conv1,keep_prob=v_keep_prob)\n",
    "    \n",
    "    # SOLUTION: Pooling. Input = 28x28x6. Output = 14x14x6.\n",
    "    conv1 = tf.nn.max_pool(conv1, ksize=[1, 2, 2, 1], strides=[1, 2, 2, 1], padding='VALID')\n",
    "\n",
    "    # SOLUTION: Layer 2: Convolutional. Output = 10x10x16.\n",
    "    conv2_W = tf.Variable(tf.truncated_normal(shape=(5, 5, 20 , 40), mean = mu, stddev = sigma),name = 'w2')\n",
    "    conv2_b = tf.Variable(tf.zeros(40))\n",
    "    conv2   = tf.nn.conv2d(conv1, conv2_W, strides=[1, 1, 1, 1], padding='VALID') + conv2_b\n",
    "    \n",
    "    # SOLUTION: Activation.\n",
    "    conv2 = tf.nn.relu(conv2)\n",
    "    conv2 = tf.nn.dropout(conv2,keep_prob=v_keep_prob)\n",
    "\n",
    "    # SOLUTION: Pooling. Input = 10x10x16. Output = 5x5x16.\n",
    "    conv2 = tf.nn.max_pool(conv2, ksize=[1, 2, 2, 1], strides=[1, 2, 2, 1], padding='VALID')\n",
    "\n",
    "    # SOLUTION: Flatten. Input = 5x5x16. Output = 400.\n",
    "    fc0   = flatten(conv2)\n",
    "    \n",
    "    # SOLUTION: Layer 3: Fully Connected. Input = 400. Output = 120.\n",
    "    fc1_W = tf.Variable(tf.truncated_normal(shape=(1000, 250), mean = mu, stddev = sigma))\n",
    "    fc1_b = tf.Variable(tf.zeros(250))\n",
    "    fc1   = tf.matmul(fc0, fc1_W) + fc1_b\n",
    "    \n",
    "    # SOLUTION: Activation.\n",
    "    fc1    = tf.nn.relu(fc1)\n",
    "    fc1    = tf.nn.dropout(fc1,keep_prob=v_keep_prob)\n",
    "\n",
    "    # SOLUTION: Layer 4: Fully Connected. Input = 120. Output = 84.\n",
    "    fc2_W  = tf.Variable(tf.truncated_normal(shape=(250, 84), mean = mu, stddev = sigma))\n",
    "    fc2_b  = tf.Variable(tf.zeros(84))\n",
    "    fc2    = tf.matmul(fc1, fc2_W) + fc2_b\n",
    "    \n",
    "    # SOLUTION: Activation.\n",
    "    fc2    = tf.nn.relu(fc2)\n",
    "    fc2    = tf.nn.dropout(fc2,keep_prob=v_keep_prob)\n",
    "\n",
    "    # SOLUTION: Layer 5: Fully Connected. Input = 84. Output = n_classes.\n",
    "    fc3_W  = tf.Variable(tf.truncated_normal(shape=(84, n_classes), mean = mu, stddev = sigma))\n",
    "    fc3_b  = tf.Variable(tf.zeros(n_classes))\n",
    "    logits = tf.matmul(fc2, fc3_W) + fc3_b\n",
    "    \n",
    "    return logits"
   ]
  },
  {
   "cell_type": "code",
   "execution_count": 12,
   "metadata": {},
   "outputs": [],
   "source": [
    "width = np.shape(X_train_normalized_grey)[1]\n",
    "hieght = np.shape(X_train_normalized_grey)[2]\n",
    "depth = np.shape(X_train_normalized_grey)[3]\n",
    "\n",
    "x = tf.placeholder(tf.float32, (None, width, hieght, depth))\n",
    "y = tf.placeholder(tf.int32, (None))\n",
    "one_hot_y = tf.one_hot(y, n_classes)\n",
    "v_keep_prob = tf.placeholder(tf.float32)"
   ]
  },
  {
   "cell_type": "code",
   "execution_count": 13,
   "metadata": {},
   "outputs": [
    {
     "name": "stdout",
     "output_type": "stream",
     "text": [
      "WARNING:tensorflow:From <ipython-input-13-b06fb703e069>:3: softmax_cross_entropy_with_logits (from tensorflow.python.ops.nn_ops) is deprecated and will be removed in a future version.\n",
      "Instructions for updating:\n",
      "\n",
      "Future major versions of TensorFlow will allow gradients to flow\n",
      "into the labels input on backprop by default.\n",
      "\n",
      "See `tf.nn.softmax_cross_entropy_with_logits_v2`.\n",
      "\n"
     ]
    }
   ],
   "source": [
    "rate = 0.001\n",
    "logits = LeNet(x,v_keep_prob=0.8)\n",
    "cross_entropy = tf.nn.softmax_cross_entropy_with_logits(labels=one_hot_y, logits=logits)\n",
    "loss_operation = tf.reduce_mean(cross_entropy)\n",
    "optimizer = tf.train.AdamOptimizer(learning_rate = rate)\n",
    "training_operation = optimizer.minimize(loss_operation)"
   ]
  },
  {
   "cell_type": "code",
   "execution_count": 14,
   "metadata": {},
   "outputs": [],
   "source": [
    "correct_prediction = tf.equal(tf.argmax(logits, 1), tf.argmax(one_hot_y, 1))\n",
    "accuracy_operation = tf.reduce_mean(tf.cast(correct_prediction, tf.float32))\n",
    "saver = tf.train.Saver()\n",
    "\n",
    "def evaluate(X_data, y_data):\n",
    "    num_examples = len(X_data)\n",
    "    total_accuracy = 0\n",
    "    sess = tf.get_default_session()\n",
    "    for offset in range(0, num_examples, BATCH_SIZE):\n",
    "        batch_x, batch_y = X_data[offset:offset+BATCH_SIZE], y_data[offset:offset+BATCH_SIZE]\n",
    "        accuracy = sess.run(accuracy_operation, feed_dict={x: batch_x, y: batch_y , v_keep_prob : 1.0 })\n",
    "        total_accuracy += (accuracy * len(batch_x))\n",
    "    return total_accuracy / num_examples"
   ]
  },
  {
   "cell_type": "code",
   "execution_count": 15,
   "metadata": {},
   "outputs": [],
   "source": [
    "# Create a summary to monitor cost tensor\n",
    "#tf.summary.scalar(\"loss\", loss_operation)\n",
    "#tf.summary.scalar(\"train_accuracy\", loss_operation)\n",
    "#tf.summary.scalar(\"valid_accuracy\", loss_operation)\n",
    "merged_summary_op = tf.summary.merge_all()"
   ]
  },
  {
   "cell_type": "markdown",
   "metadata": {},
   "source": [
    "We will try to display relevant metrics in tensorboard"
   ]
  },
  {
   "cell_type": "markdown",
   "metadata": {},
   "source": [
    "### Train, Validate and Test the Model\n",
    "In the next 2 cells we train and validate the model"
   ]
  },
  {
   "cell_type": "code",
   "execution_count": 16,
   "metadata": {},
   "outputs": [
    {
     "name": "stdout",
     "output_type": "stream",
     "text": [
      "Training...\n",
      "\n",
      "EPOCH 1 ...\n",
      "Test Accuracy = 0.565\n",
      "Train Accuracy = 0.578\n",
      "\n",
      "EPOCH 2 ...\n",
      "Test Accuracy = 0.784\n",
      "Train Accuracy = 0.800\n",
      "\n",
      "EPOCH 3 ...\n",
      "Test Accuracy = 0.849\n",
      "Train Accuracy = 0.855\n",
      "\n",
      "EPOCH 4 ...\n",
      "Test Accuracy = 0.889\n",
      "Train Accuracy = 0.896\n",
      "\n",
      "EPOCH 5 ...\n",
      "Test Accuracy = 0.906\n",
      "Train Accuracy = 0.913\n",
      "\n",
      "EPOCH 6 ...\n",
      "Test Accuracy = 0.921\n",
      "Train Accuracy = 0.921\n",
      "\n",
      "EPOCH 7 ...\n",
      "Test Accuracy = 0.938\n",
      "Train Accuracy = 0.943\n",
      "\n",
      "EPOCH 8 ...\n",
      "Test Accuracy = 0.947\n",
      "Train Accuracy = 0.952\n",
      "\n",
      "EPOCH 9 ...\n",
      "Test Accuracy = 0.940\n",
      "Train Accuracy = 0.946\n",
      "\n",
      "EPOCH 10 ...\n",
      "Test Accuracy = 0.950\n",
      "Train Accuracy = 0.954\n",
      "\n",
      "EPOCH 11 ...\n",
      "Test Accuracy = 0.955\n",
      "Train Accuracy = 0.958\n",
      "\n",
      "EPOCH 12 ...\n",
      "Test Accuracy = 0.953\n",
      "Train Accuracy = 0.961\n",
      "\n",
      "EPOCH 13 ...\n",
      "Test Accuracy = 0.960\n",
      "Train Accuracy = 0.960\n",
      "\n",
      "EPOCH 14 ...\n",
      "Test Accuracy = 0.967\n",
      "Train Accuracy = 0.967\n",
      "\n",
      "EPOCH 15 ...\n",
      "Test Accuracy = 0.970\n",
      "Train Accuracy = 0.971\n",
      "\n",
      "EPOCH 16 ...\n",
      "Test Accuracy = 0.972\n",
      "Train Accuracy = 0.974\n",
      "\n",
      "EPOCH 17 ...\n",
      "Test Accuracy = 0.976\n",
      "Train Accuracy = 0.974\n",
      "\n",
      "EPOCH 18 ...\n",
      "Test Accuracy = 0.974\n",
      "Train Accuracy = 0.972\n",
      "\n",
      "EPOCH 19 ...\n",
      "Test Accuracy = 0.974\n",
      "Train Accuracy = 0.975\n",
      "\n",
      "EPOCH 20 ...\n",
      "Test Accuracy = 0.978\n",
      "Train Accuracy = 0.974\n",
      "\n",
      "Model saved\n"
     ]
    }
   ],
   "source": [
    "EPOCHS = 20\n",
    "BATCH_SIZE = 64\n",
    "\n",
    "### Train your model here.\n",
    "### Calculate and report the accuracy on the training and validation set.\n",
    "### Once a final model architecture is selected, \n",
    "### the accuracy on the test set should be calculated and reported as well.\n",
    "### Feel free to use as many code cells as needed.\n",
    "\n",
    "\n",
    "with tf.Session() as sess:\n",
    "    sess.run(tf.global_variables_initializer())\n",
    "    num_examples = len(X_train)\n",
    "    \n",
    "    if tf.gfile.Exists('./graphs'):\n",
    "        tf.gfile.DeleteRecursively('./graphs') \n",
    "\n",
    "    \n",
    "    \n",
    "    summary_writer = tf.summary.FileWriter('./graphs', sess.graph)\n",
    "    \n",
    "    \n",
    "    print(\"Training...\")\n",
    "    print()\n",
    "    for i in range(EPOCHS):\n",
    "        X_train_shuffle, y_train_shuffle = X_train_normalized_grey, y_train\n",
    "        X_train_shuffle, y_train_shuffle = shuffle(X_train_shuffle, y_train_shuffle)\n",
    "        X_train_split, X_test_split, y_train_split, y_test_split = train_test_split(X_train_shuffle,y_train_shuffle, test_size=0.1)\n",
    "     \n",
    "        \n",
    "        \n",
    "        for offset in range(0, len(X_train_split), BATCH_SIZE):\n",
    "            end = offset + BATCH_SIZE\n",
    "            batch_x, batch_y = X_train_split[offset:end], y_train_split[offset:end]\n",
    "            sess.run(training_operation, feed_dict={x: batch_x, y: batch_y , v_keep_prob : 0.8})\n",
    "            #summary_writer.add_summary(summary)\n",
    "            summary = sess.run(loss_operation, feed_dict={x: batch_x,\n",
    "                                              y : batch_y, v_keep_prob : 0.8})\n",
    "            \n",
    "            \n",
    "            \n",
    "            \n",
    "        summary = tf.Summary(value=[tf.Summary.Value(tag=\"loss\", simple_value=summary)])    \n",
    "        summary_writer.add_summary(summary,i)    \n",
    "        test_accuracy = evaluate(X_test_split, y_test_split)\n",
    "        print(\"EPOCH {} ...\".format(i+1))\n",
    "        print(\"Test Accuracy = {:.3f}\".format(test_accuracy))\n",
    "    \n",
    "       \n",
    "        train_accuracy = evaluate(X_train_split, y_train_split)\n",
    "        print(\"Train Accuracy = {:.3f}\".format(train_accuracy))\n",
    "        print()\n",
    "        \n",
    "        summary_test = tf.Summary(value=[tf.Summary.Value(tag=\"Test Accuracy\", simple_value=test_accuracy)])\n",
    "        summary_writer.add_summary(summary_test,i)\n",
    "        summary_train = tf.Summary(value=[tf.Summary.Value(tag=\"Train Accuracy\", simple_value=train_accuracy)])\n",
    "        summary_writer.add_summary(summary_train,i)\n",
    "        \n",
    "        \n",
    "    layer1_weights =[]\n",
    "    layer2_weights =[]\n",
    "    variables_names =[v.name for v in tf.trainable_variables()]\n",
    "    values = sess.run(variables_names)\n",
    "    for k,v in zip(variables_names, values):\n",
    "        if 'w1'in k:\n",
    "            layer1_weights = v\n",
    "        if 'w2'in k:\n",
    "            layer2_weights = v    \n",
    "            \n",
    "    \n",
    "    #summary_writer.add_summary(filter_summary)\n",
    "    writer = tf.summary.FileWriter('./graphs', sess.graph)       \n",
    "    saver.save(sess, './model_files/lenet')\n",
    "    print(\"Model saved\")"
   ]
  },
  {
   "cell_type": "code",
   "execution_count": 17,
   "metadata": {},
   "outputs": [
    {
     "name": "stdout",
     "output_type": "stream",
     "text": [
      "INFO:tensorflow:Restoring parameters from ./model_files\\lenet\n",
      "Train Accuracy = 0.972\n",
      "Validation Accuracy = 0.808\n",
      "Test Accuracy = 0.799\n"
     ]
    }
   ],
   "source": [
    "with tf.Session() as sess:\n",
    "    saver.restore(sess, tf.train.latest_checkpoint('./model_files'))\n",
    "\n",
    "    train_accuracy = evaluate(X_train_normalized_grey, y_train)\n",
    "    print(\"Train Accuracy = {:.3f}\".format(train_accuracy))\n",
    "    \n",
    "    valid_accuracy = evaluate(X_valid_normalized_grey, y_valid)\n",
    "    print(\"Validation Accuracy = {:.3f}\".format(valid_accuracy))\n",
    "    \n",
    "    test_accuracy = evaluate(X_test_normalized_grey, y_test)\n",
    "    print(\"Test Accuracy = {:.3f}\".format(test_accuracy))"
   ]
  },
  {
   "cell_type": "markdown",
   "metadata": {},
   "source": [
    "Getting the Model summary"
   ]
  },
  {
   "cell_type": "code",
   "execution_count": 18,
   "metadata": {},
   "outputs": [
    {
     "name": "stdout",
     "output_type": "stream",
     "text": [
      "---------\n",
      "Variables: name (type shape) [size]\n",
      "---------\n",
      "w1:0 (float32_ref 5x5x1x20) [500, bytes: 2000]\n",
      "Variable:0 (float32_ref 20) [20, bytes: 80]\n",
      "w2:0 (float32_ref 5x5x20x40) [20000, bytes: 80000]\n",
      "Variable_1:0 (float32_ref 40) [40, bytes: 160]\n",
      "Variable_2:0 (float32_ref 1000x250) [250000, bytes: 1000000]\n",
      "Variable_3:0 (float32_ref 250) [250, bytes: 1000]\n",
      "Variable_4:0 (float32_ref 250x84) [21000, bytes: 84000]\n",
      "Variable_5:0 (float32_ref 84) [84, bytes: 336]\n",
      "Variable_6:0 (float32_ref 84x43) [3612, bytes: 14448]\n",
      "Variable_7:0 (float32_ref 43) [43, bytes: 172]\n",
      "Total size of variables: 295549\n",
      "Total bytes of variables: 1182196\n"
     ]
    },
    {
     "data": {
      "text/plain": [
       "(295549, 1182196)"
      ]
     },
     "execution_count": 18,
     "metadata": {},
     "output_type": "execute_result"
    }
   ],
   "source": [
    "model_vars = tf.trainable_variables()\n",
    "slim.model_analyzer.analyze_vars(model_vars, print_info=True)"
   ]
  },
  {
   "cell_type": "markdown",
   "metadata": {},
   "source": [
    "A validation set can be used to assess how well the model is performing. A low accuracy on the training and validation\n",
    "sets imply underfitting. A high accuracy on the training set but low accuracy on the validation set implies overfitting."
   ]
  },
  {
   "cell_type": "markdown",
   "metadata": {},
   "source": [
    "---\n",
    "\n",
    "## Step 3: Test a Model on New Images\n",
    "\n",
    "To give yourself more insight into how your model is working, download at least five pictures of German traffic signs from the web and use your model to predict the traffic sign type.\n",
    "\n",
    "You may find `signnames.csv` useful as it contains mappings from the class id (integer) to the actual sign name."
   ]
  },
  {
   "cell_type": "markdown",
   "metadata": {},
   "source": [
    "### Load and Output the Images\n",
    "\n",
    "Displaying one of the images"
   ]
  },
  {
   "cell_type": "code",
   "execution_count": 19,
   "metadata": {},
   "outputs": [
    {
     "data": {
      "text/plain": [
       "<matplotlib.image.AxesImage at 0x163cd047588>"
      ]
     },
     "execution_count": 19,
     "metadata": {},
     "output_type": "execute_result"
    },
    {
     "data": {
      "image/png": "[encoded data removed]",
      "text/plain": [
       "<Figure size 432x288 with 1 Axes>"
      ]
     },
     "metadata": {},
     "output_type": "display_data"
    }
   ],
   "source": [
    "plt.imshow(plt.imread('internet_images/Traffic_Sign_5.jpg'))"
   ]
  },
  {
   "cell_type": "markdown",
   "metadata": {},
   "source": [
    "Preprocessing the images"
   ]
  },
  {
   "cell_type": "code",
   "execution_count": 20,
   "metadata": {},
   "outputs": [
    {
     "data": {
      "image/png": "[encoded data removed]",
      "text/plain": [
       "<Figure size 432x288 with 1 Axes>"
      ]
     },
     "metadata": {},
     "output_type": "display_data"
    }
   ],
   "source": [
    "### Load the images and plot them here.\n",
    "### Feel free to use as many code cells as needed.\n",
    "### Prprocessing the images\n",
    "# Make a list of images for processing\n",
    "internet_images = glob.glob('internet_images/Traffic_Sign_*.jpg')\n",
    "internet_images_dataset = []\n",
    "# Step through the list and search for chessboard corners\n",
    "for idx, fname in enumerate(internet_images):\n",
    "    img = plt.imread(fname)\n",
    "    img = (img-128)/128\n",
    "    r, g, b = img[:,:,0], img[:,:,1], img[:,:,2]\n",
    "    img = 0.2989 * r + 0.5870 * g + 0.1140 * b\n",
    "    internet_images_dataset.append(np.asarray(img))\n",
    "    plt.imshow(img, cmap = 'gray')\n",
    "    \n",
    "internet_images_dataset = np.asarray(internet_images_dataset)   \n",
    "internet_images_dataset = np.reshape(internet_images_dataset,(5,32,32,1))"
   ]
  },
  {
   "cell_type": "code",
   "execution_count": 21,
   "metadata": {},
   "outputs": [
    {
     "data": {
      "text/plain": [
       "<matplotlib.image.AxesImage at 0x163cd0e9dd8>"
      ]
     },
     "execution_count": 21,
     "metadata": {},
     "output_type": "execute_result"
    },
    {
     "data": {
      "image/png": "[encoded data removed]",
      "text/plain": [
       "<Figure size 432x288 with 1 Axes>"
      ]
     },
     "metadata": {},
     "output_type": "display_data"
    }
   ],
   "source": [
    "### Redisplay image to check image \n",
    "plt.imshow(np.squeeze(internet_images_dataset[4],axis=-1), cmap = 'gray')"
   ]
  },
  {
   "cell_type": "markdown",
   "metadata": {},
   "source": [
    "### Predict the Sign Type for Each Image"
   ]
  },
  {
   "cell_type": "code",
   "execution_count": 35,
   "metadata": {},
   "outputs": [
    {
     "name": "stdout",
     "output_type": "stream",
     "text": [
      "INFO:tensorflow:Restoring parameters from ./model_files\\lenet\n"
     ]
    }
   ],
   "source": [
    "### Run the predictions here and use the model to output the prediction for each image.\n",
    "### Make sure to pre-process the images with the same pre-processing pipeline used earlier.\n",
    "### Feel free to use as many code cells as needed.\n",
    "with tf.Session() as sess:\n",
    "    saver.restore(sess, tf.train.latest_checkpoint('./model_files'))\n",
    "    results = sess.run(tf.argmax(logits, 1), {x : internet_images_dataset, v_keep_prob:1.0})\n",
    "    pred = tf.nn.softmax(logits)\n",
    "    results_top_5 = sess.run(tf.nn.top_k(pred, k=5), {x : internet_images_dataset, v_keep_prob:1.0})"
   ]
  },
  {
   "cell_type": "markdown",
   "metadata": {},
   "source": [
    "Lets display all images and predicted labels"
   ]
  },
  {
   "cell_type": "code",
   "execution_count": 36,
   "metadata": {},
   "outputs": [
    {
     "data": {
      "image/png": "[encoded data removed]",
      "text/plain": [
       "<Figure size 1440x720 with 5 Axes>"
      ]
     },
     "metadata": {},
     "output_type": "display_data"
    }
   ],
   "source": [
    "plt.figure(figsize=(20,10))\n",
    "columns = 5\n",
    "internet_images = glob.glob('internet_images/Traffic_Sign_*.jpg')\n",
    "for i, image in enumerate(internet_images):\n",
    "    plt.subplot(len(image) / columns + 1, columns, i + 1)\n",
    "    img = plt.imread(image)\n",
    "    plt.imshow(img)"
   ]
  },
  {
   "cell_type": "code",
   "execution_count": 37,
   "metadata": {},
   "outputs": [
    {
     "data": {
      "text/html": [
       "<div>\n",
       "<style scoped>\n",
       "    .dataframe tbody tr th:only-of-type {\n",
       "        vertical-align: middle;\n",
       "    }\n",
       "\n",
       "    .dataframe tbody tr th {\n",
       "        vertical-align: top;\n",
       "    }\n",
       "\n",
       "    .dataframe thead th {\n",
       "        text-align: right;\n",
       "    }\n",
       "</style>\n",
       "<table border=\"1\" class=\"dataframe\">\n",
       "  <thead>\n",
       "    <tr style=\"text-align: right;\">\n",
       "      <th></th>\n",
       "      <th>ClassId</th>\n",
       "      <th>SignName</th>\n",
       "    </tr>\n",
       "  </thead>\n",
       "  <tbody>\n",
       "    <tr>\n",
       "      <th>0</th>\n",
       "      <td>31</td>\n",
       "      <td>Wild animals crossing</td>\n",
       "    </tr>\n",
       "    <tr>\n",
       "      <th>1</th>\n",
       "      <td>4</td>\n",
       "      <td>Speed limit (70km/h)</td>\n",
       "    </tr>\n",
       "    <tr>\n",
       "      <th>2</th>\n",
       "      <td>13</td>\n",
       "      <td>Yield</td>\n",
       "    </tr>\n",
       "    <tr>\n",
       "      <th>3</th>\n",
       "      <td>14</td>\n",
       "      <td>Stop</td>\n",
       "    </tr>\n",
       "    <tr>\n",
       "      <th>4</th>\n",
       "      <td>18</td>\n",
       "      <td>General caution</td>\n",
       "    </tr>\n",
       "  </tbody>\n",
       "</table>\n",
       "</div>"
      ],
      "text/plain": [
       "   ClassId               SignName\n",
       "0       31  Wild animals crossing\n",
       "1        4   Speed limit (70km/h)\n",
       "2       13                  Yield\n",
       "3       14                   Stop\n",
       "4       18        General caution"
      ]
     },
     "execution_count": 37,
     "metadata": {},
     "output_type": "execute_result"
    }
   ],
   "source": [
    "pred = []\n",
    "pred_df = pd.DataFrame(results)\n",
    "pred_df.columns = ['ClassId']\n",
    "pred_df_merge = pd.merge(pred_df, df_signnames , on='ClassId', how='inner')    \n",
    "pred_df_merge"
   ]
  },
  {
   "cell_type": "markdown",
   "metadata": {},
   "source": [
    "\n",
    "### Analyze Performance"
   ]
  },
  {
   "cell_type": "code",
   "execution_count": 38,
   "metadata": {},
   "outputs": [
    {
     "data": {
      "text/html": [
       "<div>\n",
       "<style scoped>\n",
       "    .dataframe tbody tr th:only-of-type {\n",
       "        vertical-align: middle;\n",
       "    }\n",
       "\n",
       "    .dataframe tbody tr th {\n",
       "        vertical-align: top;\n",
       "    }\n",
       "\n",
       "    .dataframe thead th {\n",
       "        text-align: right;\n",
       "    }\n",
       "</style>\n",
       "<table border=\"1\" class=\"dataframe\">\n",
       "  <thead>\n",
       "    <tr style=\"text-align: right;\">\n",
       "      <th></th>\n",
       "      <th>pred1</th>\n",
       "      <th>pred2</th>\n",
       "      <th>pred3</th>\n",
       "      <th>pred4</th>\n",
       "      <th>pred5</th>\n",
       "    </tr>\n",
       "    <tr>\n",
       "      <th>0</th>\n",
       "      <th></th>\n",
       "      <th></th>\n",
       "      <th></th>\n",
       "      <th></th>\n",
       "      <th></th>\n",
       "    </tr>\n",
       "  </thead>\n",
       "  <tbody>\n",
       "    <tr>\n",
       "      <th>img1</th>\n",
       "      <td>Priority road</td>\n",
       "      <td>General caution</td>\n",
       "      <td>No passing for vehicles over 3.5 metric tons</td>\n",
       "      <td>Ahead only</td>\n",
       "      <td>Roundabout mandatory</td>\n",
       "    </tr>\n",
       "    <tr>\n",
       "      <th>img2</th>\n",
       "      <td>Road work</td>\n",
       "      <td>General caution</td>\n",
       "      <td>Speed limit (70km/h)</td>\n",
       "      <td>Speed limit (30km/h)</td>\n",
       "      <td>Turn right ahead</td>\n",
       "    </tr>\n",
       "    <tr>\n",
       "      <th>img3</th>\n",
       "      <td>Speed limit (50km/h)</td>\n",
       "      <td>Speed limit (120km/h)</td>\n",
       "      <td>Speed limit (70km/h)</td>\n",
       "      <td>Speed limit (30km/h)</td>\n",
       "      <td>Turn left ahead</td>\n",
       "    </tr>\n",
       "    <tr>\n",
       "      <th>img4</th>\n",
       "      <td>Stop</td>\n",
       "      <td>Speed limit (50km/h)</td>\n",
       "      <td>Speed limit (30km/h)</td>\n",
       "      <td>No passing for vehicles over 3.5 metric tons</td>\n",
       "      <td>Ahead only</td>\n",
       "    </tr>\n",
       "    <tr>\n",
       "      <th>img5</th>\n",
       "      <td>General caution</td>\n",
       "      <td>Double curve</td>\n",
       "      <td>Wild animals crossing</td>\n",
       "      <td>Right-of-way at the next intersection</td>\n",
       "      <td>Go straight or left</td>\n",
       "    </tr>\n",
       "  </tbody>\n",
       "</table>\n",
       "</div>"
      ],
      "text/plain": [
       "                     pred1                  pred2  \\\n",
       "0                                                   \n",
       "img1         Priority road        General caution   \n",
       "img2             Road work        General caution   \n",
       "img3  Speed limit (50km/h)  Speed limit (120km/h)   \n",
       "img4                  Stop   Speed limit (50km/h)   \n",
       "img5       General caution           Double curve   \n",
       "\n",
       "                                             pred3  \\\n",
       "0                                                    \n",
       "img1  No passing for vehicles over 3.5 metric tons   \n",
       "img2                          Speed limit (70km/h)   \n",
       "img3                          Speed limit (70km/h)   \n",
       "img4                          Speed limit (30km/h)   \n",
       "img5                         Wild animals crossing   \n",
       "\n",
       "                                             pred4                 pred5  \n",
       "0                                                                         \n",
       "img1                                    Ahead only  Roundabout mandatory  \n",
       "img2                          Speed limit (30km/h)      Turn right ahead  \n",
       "img3                          Speed limit (30km/h)       Turn left ahead  \n",
       "img4  No passing for vehicles over 3.5 metric tons            Ahead only  \n",
       "img5         Right-of-way at the next intersection   Go straight or left  "
      ]
     },
     "execution_count": 38,
     "metadata": {},
     "output_type": "execute_result"
    }
   ],
   "source": [
    "results_top_5_list = np.array(results_top_5[1]).tolist()\n",
    "df_results_top_5_list=pd.DataFrame(results_top_5_list)\n",
    "df_results_top_5_list.columns = ['pred1', 'pred2','pred3','pred4','pred5']\n",
    "df_results_top_5_list_merge_1= pd.merge(df_results_top_5_list[['pred1']],df_signnames[['SignName','ClassId']], right_on='ClassId',left_on='pred1',how='inner')\n",
    "df_results_top_5_list_merge_1 = df_results_top_5_list_merge_1.drop(columns = ['pred1','ClassId'])\n",
    "df_results_top_5_list_merge_1.columns = ['pred1']\n",
    "df_results_top_5_list_merge_2= pd.merge(df_results_top_5_list[['pred2']],df_signnames[['SignName','ClassId']], right_on='ClassId',left_on='pred2',how='inner')\n",
    "df_results_top_5_list_merge_2 = df_results_top_5_list_merge_2.drop(columns = ['pred2','ClassId'])\n",
    "df_results_top_5_list_merge_2.columns = ['pred2']\n",
    "df_results_top_5_list_merge_2\n",
    "df_results_top_5_list_merge_3= pd.merge(df_results_top_5_list[['pred3']],df_signnames[['SignName','ClassId']], right_on='ClassId',left_on='pred3',how='inner')\n",
    "df_results_top_5_list_merge_3 = df_results_top_5_list_merge_3.drop(columns = ['pred3','ClassId'])\n",
    "df_results_top_5_list_merge_3.columns = ['pred3']\n",
    "df_results_top_5_list_merge_4= pd.merge(df_results_top_5_list[['pred4']],df_signnames[['SignName','ClassId']], right_on='ClassId',left_on='pred4',how='inner')\n",
    "df_results_top_5_list_merge_4 = df_results_top_5_list_merge_4.drop(columns = ['pred4','ClassId'])\n",
    "df_results_top_5_list_merge_4.columns = ['pred4']\n",
    "df_results_top_5_list_merge_5= pd.merge(df_results_top_5_list[['pred5']],df_signnames[['SignName','ClassId']], right_on='ClassId',left_on='pred5',how='inner')\n",
    "df_results_top_5_list_merge_5 = df_results_top_5_list_merge_5.drop(columns = ['pred5','ClassId'])\n",
    "df_results_top_5_list_merge_5.columns = ['pred5']\n",
    "df_results_top_5_list_merge_5\n",
    "\n",
    "img_list_name = ['img1','img2','img3','img4','img5']\n",
    "\n",
    "\n",
    "final_df = pd.concat([\n",
    "          df_results_top_5_list_merge_1,\n",
    "          df_results_top_5_list_merge_2,\n",
    "\t\t  df_results_top_5_list_merge_3,\n",
    "\t\t  df_results_top_5_list_merge_4,\n",
    "\t\t  df_results_top_5_list_merge_5,\n",
    "          pd.DataFrame(img_list_name)\n",
    "\t\t  ], axis=1)\n",
    "\n",
    "final_df.set_index(0)"
   ]
  },
  {
   "cell_type": "markdown",
   "metadata": {},
   "source": [
    "### Output Top 5 Softmax Probabilities For Each Image Found on the Web"
   ]
  },
  {
   "cell_type": "markdown",
   "metadata": {},
   "source": [
    "For each of the new images, print out the model's softmax probabilities to show the **certainty** of the model's predictions (limit the output to the top 5 probabilities for each image). [`tf.nn.top_k`](https://www.tensorflow.org/versions/r0.12/api_docs/python/nn.html#top_k) could prove helpful here. \n",
    "\n",
    "The example below demonstrates how tf.nn.top_k can be used to find the top k predictions for each image.\n",
    "\n",
    "`tf.nn.top_k` will return the values and indices (class ids) of the top k predictions. So if k=3, for each sign, it'll return the 3 largest probabilities (out of a possible 43) and the correspoding class ids.\n",
    "\n",
    "Take this numpy array as an example. The values in the array represent predictions. The array contains softmax probabilities for five candidate images with six possible classes. `tf.nn.top_k` is used to choose the three classes with the highest probability:\n",
    "\n",
    "```\n",
    "# (5, 6) array\n",
    "a = np.array([[ 0.24879643,  0.07032244,  0.12641572,  0.34763842,  0.07893497,\n",
    "         0.12789202],\n",
    "       [ 0.28086119,  0.27569815,  0.08594638,  0.0178669 ,  0.18063401,\n",
    "         0.15899337],\n",
    "       [ 0.26076848,  0.23664738,  0.08020603,  0.07001922,  0.1134371 ,\n",
    "         0.23892179],\n",
    "       [ 0.11943333,  0.29198961,  0.02605103,  0.26234032,  0.1351348 ,\n",
    "         0.16505091],\n",
    "       [ 0.09561176,  0.34396535,  0.0643941 ,  0.16240774,  0.24206137,\n",
    "         0.09155967]])\n",
    "```\n",
    "\n",
    "Running it through `sess.run(tf.nn.top_k(tf.constant(a), k=3))` produces:\n",
    "\n",
    "```\n",
    "TopKV2(values=array([[ 0.34763842,  0.24879643,  0.12789202],\n",
    "       [ 0.28086119,  0.27569815,  0.18063401],\n",
    "       [ 0.26076848,  0.23892179,  0.23664738],\n",
    "       [ 0.29198961,  0.26234032,  0.16505091],\n",
    "       [ 0.34396535,  0.24206137,  0.16240774]]), indices=array([[3, 0, 5],\n",
    "       [0, 1, 4],\n",
    "       [0, 5, 1],\n",
    "       [1, 3, 5],\n",
    "       [1, 4, 3]], dtype=int32))\n",
    "```\n",
    "\n",
    "Looking just at the first row we get `[ 0.34763842,  0.24879643,  0.12789202]`, you can confirm these are the 3 largest probabilities in `a`. You'll also notice `[3, 0, 5]` are the corresponding indices."
   ]
  },
  {
   "cell_type": "code",
   "execution_count": 26,
   "metadata": {},
   "outputs": [
    {
     "name": "stdout",
     "output_type": "stream",
     "text": [
      "[[9.99690771e-01 2.62662477e-04 4.51732631e-05 7.85050815e-07\n",
      "  3.61062916e-07]\n",
      " [6.25402272e-01 1.63517743e-01 1.37060270e-01 3.62877958e-02\n",
      "  1.30589018e-02]\n",
      " [9.22819555e-01 4.96013984e-02 1.10886395e-02 7.10646762e-03\n",
      "  4.15864633e-03]\n",
      " [4.58567798e-01 4.21235681e-01 7.07909986e-02 4.80340794e-02\n",
      "  9.11898213e-04]\n",
      " [9.36490476e-01 3.74673344e-02 1.19978450e-02 8.11939500e-03\n",
      "  2.38614832e-03]]\n"
     ]
    }
   ],
   "source": [
    "### Print out the top five softmax probabilities for the predictions on the German traffic sign images found on the web. \n",
    "### Feel free to use as many code cells as needed.\n",
    "print(results_top_5[0])"
   ]
  },
  {
   "cell_type": "markdown",
   "metadata": {},
   "source": [
    "### Project Writeup\n",
    "\n",
    "Once you have completed the code implementation, document your results in a project writeup using this [template](https://github.com/udacity/CarND-Traffic-Sign-Classifier-Project/blob/master/writeup_template.md) as a guide. The writeup can be in a markdown or pdf file. "
   ]
  },
  {
   "cell_type": "markdown",
   "metadata": {},
   "source": [
    "> **Note**: Once you have completed all of the code implementations and successfully answered each question above, you may finalize your work by exporting the iPython Notebook as an HTML document. You can do this by using the menu above and navigating to  \\n\",\n",
    "    \"**File -> Download as -> HTML (.html)**. Include the finished document along with this notebook as your submission."
   ]
  },
  {
   "cell_type": "markdown",
   "metadata": {},
   "source": [
    "---\n",
    "\n",
    "## Step 4 (Optional): Visualize the Neural Network's State with Test Images\n",
    "\n",
    " This Section is not required to complete but acts as an additional excersise for understaning the output of a neural network's weights. While neural networks can be a great learning device they are often referred to as a black box. We can understand what the weights of a neural network look like better by plotting their feature maps. After successfully training your neural network you can see what it's feature maps look like by plotting the output of the network's weight layers in response to a test stimuli image. From these plotted feature maps, it's possible to see what characteristics of an image the network finds interesting. For a sign, maybe the inner network feature maps react with high activation to the sign's boundary outline or to the contrast in the sign's painted symbol.\n",
    "\n",
    " Provided for you below is the function code that allows you to get the visualization output of any tensorflow weight layer you want. The inputs to the function should be a stimuli image, one used during training or a new one you provided, and then the tensorflow variable name that represents the layer's state during the training process, for instance if you wanted to see what the [LeNet lab's](https://classroom.udacity.com/nanodegrees/nd013/parts/fbf77062-5703-404e-b60c-95b78b2f3f9e/modules/6df7ae49-c61c-4bb2-a23e-6527e69209ec/lessons/601ae704-1035-4287-8b11-e2c2716217ad/concepts/d4aca031-508f-4e0b-b493-e7b706120f81) feature maps looked like for it's second convolutional layer you could enter conv2 as the tf_activation variable.\n",
    "\n",
    "For an example of what feature map outputs look like, check out NVIDIA's results in their paper [End-to-End Deep Learning for Self-Driving Cars](https://devblogs.nvidia.com/parallelforall/deep-learning-self-driving-cars/) in the section Visualization of internal CNN State. NVIDIA was able to show that their network's inner weights had high activations to road boundary lines by comparing feature maps from an image with a clear path to one without. Try experimenting with a similar test to show that your trained network's weights are looking for interesting features, whether it's looking at differences in feature maps from images with or without a sign, or even what feature maps look like in a trained network vs a completely untrained one on the same sign image.\n",
    "\n",
    "<figure>\n",
    " <img src=\"visualize_cnn.png\" width=\"380\" alt=\"Combined Image\" />\n",
    " <figcaption>\n",
    " <p></p> \n",
    " <p style=\"text-align: center;\"> Your output should look something like this (above)</p> \n",
    " </figcaption>\n",
    "</figure>\n",
    " <p></p> \n"
   ]
  },
  {
   "cell_type": "code",
   "execution_count": 27,
   "metadata": {},
   "outputs": [],
   "source": [
    "### Visualize your network's feature maps here.\n",
    "### Feel free to use as many code cells as needed.\n",
    "\n",
    "# image_input: the test image being fed into the network to produce the feature maps\n",
    "# tf_activation: should be a tf variable name used during your training procedure that represents the calculated state of a specific weight layer\n",
    "# activation_min/max: can be used to view the activation contrast in more detail, by default matplot sets min and max to the actual min and max values of the output\n",
    "# plt_num: used to plot out multiple different weight feature map sets on the same block, just extend the plt number for each new feature map entry\n",
    "\n",
    "def outputFeatureMap(image_input, tf_activation, activation_min=-1, activation_max=-1 ,plt_num=1):\n",
    "    # Here make sure to preprocess your image_input in a way your network expects\n",
    "    # with size, normalization, ect if needed\n",
    "    # image_input =\n",
    "    # Note: x should be the same name as your network's tensorflow data placeholder variable\n",
    "    # If you get an error tf_activation is not defined it may be having trouble accessing the variable from inside a function\n",
    "    activation = tf_activation.eval(session=sess,feed_dict={x : image_input} )\n",
    "    featuremaps = activation.shape[3]\n",
    "    plt.figure(plt_num, figsize=(15,15))\n",
    "    for featuremap in range(featuremaps):\n",
    "        plt.subplot(6,8, featuremap+1) # sets the number of feature maps to show on each row and column\n",
    "        plt.title('FeatureMap ' + str(featuremap)) # displays the feature map number\n",
    "        if activation_min != -1 & activation_max != -1:\n",
    "            plt.imshow(activation[0,:,:, featuremap], interpolation=\"nearest\", vmin =activation_min, vmax=activation_max, cmap=\"gray\")\n",
    "        elif activation_max != -1:\n",
    "            plt.imshow(activation[0,:,:, featuremap], interpolation=\"nearest\", vmax=activation_max, cmap=\"gray\")\n",
    "        elif activation_min !=-1:\n",
    "            plt.imshow(activation[0,:,:, featuremap], interpolation=\"nearest\", vmin=activation_min, cmap=\"gray\")\n",
    "        else:\n",
    "            plt.imshow(activation[0,:,:, featuremap], interpolation=\"nearest\", cmap=\"gray\")"
   ]
  },
  {
   "cell_type": "markdown",
   "metadata": {},
   "source": [
    "visualizing the weights"
   ]
  },
  {
   "cell_type": "code",
   "execution_count": 28,
   "metadata": {},
   "outputs": [],
   "source": [
    "layer1_weights_reshape = layer1_weights.reshape((20,5,5,1))\n",
    "for i in range(19): \n",
    "    plt.imsave(\"layer_1/channel_\"+str(i)+\".jpg\",np.squeeze(layer1_weights_reshape[i],axis=-1))"
   ]
  },
  {
   "cell_type": "code",
   "execution_count": 29,
   "metadata": {},
   "outputs": [],
   "source": [
    "for i in range(19): \n",
    "    img = Image.open('layer_1/channel_'+str(i)+'.jpg') # image extension *.png,*.jpg\n",
    "    new_width  = 100\n",
    "    new_height = 100\n",
    "    img = img.resize((new_width, new_height), Image.ANTIALIAS)\n",
    "    img.save('layer_1/channel_'+str(i)+'.jpg') # format may what u want ,*.png,*jpg,*.gif"
   ]
  },
  {
   "cell_type": "code",
   "execution_count": 30,
   "metadata": {},
   "outputs": [],
   "source": [
    "layer2_weights_temp = np.sum(layer2_weights,axis = 2)\n",
    "layer2_weights_reshape = layer2_weights_temp.reshape((40,5,5,1))\n",
    "for i in range(39): \n",
    "    plt.imsave(\"layer_2/channel_\"+str(i)+\".jpg\",np.squeeze(layer2_weights_reshape[i],axis=-1))"
   ]
  },
  {
   "cell_type": "code",
   "execution_count": 31,
   "metadata": {},
   "outputs": [],
   "source": [
    "for i in range(39): \n",
    "    img = Image.open('layer_2/channel_'+str(i)+'.jpg') # image extension *.png,*.jpg\n",
    "    new_width  = 100\n",
    "    new_height = 100\n",
    "    img = img.resize((new_width, new_height), Image.ANTIALIAS)\n",
    "    img.save('layer_2/channel_'+str(i)+'.jpg') # format may what u want ,*.png,*jpg,*.gif"
   ]
  }
 ],
 "metadata": {
  "anaconda-cloud": {},
  "kernelspec": {
   "display_name": "Python 3",
   "language": "python",
   "name": "python3"
  },
  "language_info": {
   "codemirror_mode": {
    "name": "ipython",
    "version": 3
   },
   "file_extension": ".py",
   "mimetype": "text/x-python",
   "name": "python",
   "nbconvert_exporter": "python",
   "pygments_lexer": "ipython3",
   "version": "3.6.5"
  }
 },
 "nbformat": 4,
 "nbformat_minor": 2
}
